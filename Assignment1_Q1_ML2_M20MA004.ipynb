{
  "nbformat": 4,
  "nbformat_minor": 0,
  "metadata": {
    "colab": {
      "name": "Assignment1_Q1_ML2_M20MA004.ipynb",
      "provenance": [],
      "collapsed_sections": [],
      "include_colab_link": true
    },
    "kernelspec": {
      "name": "python3",
      "display_name": "Python 3"
    }
  },
  "cells": [
    {
      "cell_type": "markdown",
      "metadata": {
        "id": "view-in-github",
        "colab_type": "text"
      },
      "source": [
        "<a href=\"https://colab.research.google.com/github/deepshikharbhardwaj/ML-2-BackPropogation/blob/main/Assignment1_Q1_ML2_M20MA004.ipynb\" target=\"_parent\"><img src=\"https://colab.research.google.com/assets/colab-badge.svg\" alt=\"Open In Colab\"/></a>"
      ]
    },
    {
      "cell_type": "code",
      "metadata": {
        "id": "evEPcBXFkF1q"
      },
      "source": [
        "# Usefull Liberary\n",
        "from sklearn.datasets import load_boston\n",
        "import numpy as np\n",
        "import matplotlib.pyplot as plt\n",
        "import pandas as pd\n",
        "\n",
        "from sklearn.datasets import load_boston\n",
        "\n",
        "from sklearn.model_selection import train_test_split\n",
        "from sklearn.preprocessing import StandardScaler\n",
        "\n",
        "# Training the Logistic Regression model on the Training set\n",
        "from sklearn.linear_model import LogisticRegression\n",
        "\n",
        "# Making the Confusion Matrix\n",
        "from sklearn.metrics import confusion_matrix, accuracy_score\n",
        "\n",
        "from sklearn.linear_model import SGDClassifier\n",
        "from sklearn.svm import SVC\n",
        "from sklearn import metrics"
      ],
      "execution_count": null,
      "outputs": []
    },
    {
      "cell_type": "code",
      "metadata": {
        "id": "JZa7UUdDjpre"
      },
      "source": [
        "# Half Space Function Definiton\n",
        "\n",
        "def Perceptron(x,y):\n",
        "    T=500                                                    # No of itterration\n",
        "    row,column=x.shape                                        # Shape of input \n",
        "    #print(row)\n",
        "    weight_temp=np.zeros((column, ))                          # Initial Weights : All Zeros\n",
        "\n",
        "    t=0\n",
        "    while T>t:\n",
        "        t=t+1\n",
        "        for i in range(row):\n",
        "            if y[i]*np.inner(weight_temp,x[i])<=0:            # Wrong Classification\n",
        "                weight_temp=weight_temp+.5*(y[i]*x[i])           # Weight Updation \n",
        "    return weight_temp\n",
        "    # Return Weight\n",
        "\n",
        "# Function to Predict Classification of New point\n",
        "def Prediction_two(x,w1,w2):\n",
        "  y=[]                                                        # Pridiction list\n",
        "  rows=x.shape[0]\n",
        "  for i in range(rows):\n",
        "    if (np.inner(w1,x[i])>0):\n",
        "      y.append(0)\n",
        "      #print(\"00\")\n",
        "      #input()\n",
        "    else:\n",
        "      if (np.inner(w2,x[i])>0):\n",
        "        y.append(1)\n",
        "       # print(\"11\")\n",
        "        #input()\n",
        "      else:\n",
        "        y.append(2)\n",
        "       # print(\"22\")\n",
        "       # input()\n",
        "\n",
        "\n",
        "    #if (np.inner(w,x[i])<0):                                    # Point lies in positive side of the hyperplane\n",
        "    #  y.append(-1)                                            \n",
        "    #else:\n",
        "    #  y.append(0)   \n",
        "  #print(y)                                         # Point lies in negative side of the hyperplane\n",
        "  return y\n",
        "def prediction(w,x):\n",
        "  y=[]                                                        # Pridiction list\n",
        "  rows=x.shape[0]\n",
        "  for i in range(rows):\n",
        "    if (np.inner(w,x[i])<=0):                                    # Point lies in positive side of the hyperplane\n",
        "      y.append(-1)                                            \n",
        "    else:\n",
        "      y.append(1)   \n",
        "  #print(y)                                         # Point lies in negative side of the hyperplane\n",
        "  return y\n",
        "# Return predicted list"
      ],
      "execution_count": null,
      "outputs": []
    },
    {
      "cell_type": "code",
      "metadata": {
        "id": "wczaGrdwkU1u"
      },
      "source": [
        "from sklearn.model_selection import train_test_split\n",
        "from sklearn import datasets\n",
        "from sklearn.decomposition import PCA\n",
        "\n",
        "iris = datasets.load_iris()\n",
        "X, Y= iris.data, iris.target\n",
        "length=len(X)\n",
        "zeors_array = np.ones( (length,1) )\n",
        "X=np.concatenate((X,zeors_array),axis=1)"
      ],
      "execution_count": null,
      "outputs": []
    },
    {
      "cell_type": "code",
      "metadata": {
        "id": "FTm-s05Gx-iy"
      },
      "source": [
        "def out_1st(Y_train):\n",
        "  Y_1=[]\n",
        "  for i in Y_train:\n",
        "    if (i==0):\n",
        "      Y_1.append(1)\n",
        "    else:\n",
        "      Y_1.append(-1)\n",
        "  return Y_1\n"
      ],
      "execution_count": null,
      "outputs": []
    },
    {
      "cell_type": "code",
      "metadata": {
        "id": "tKRCbQpKHfKc"
      },
      "source": [
        "def out_2nd(Y_train):\n",
        "  y_2=[]\n",
        "  for i in Y_train:\n",
        "    if (i==1):\n",
        "      y_2.append(1)\n",
        "    else:\n",
        "      y_2.append(-1)\n",
        "  return y_2\n",
        "\n"
      ],
      "execution_count": null,
      "outputs": []
    },
    {
      "cell_type": "code",
      "metadata": {
        "id": "pwjVMCnHnq66"
      },
      "source": [
        "#Training 1st\n",
        "Y1st=out_1st(Y)\n",
        "X_train1, X_test1, Y_train1, Y_test1 = train_test_split(X, Y1st, test_size=0.2)"
      ],
      "execution_count": null,
      "outputs": []
    },
    {
      "cell_type": "code",
      "metadata": {
        "colab": {
          "base_uri": "https://localhost:8080/"
        },
        "id": "X1mhfx32HvsU",
        "outputId": "f6646335-b014-457b-9d06-e7155c6286cc"
      },
      "source": [
        "weights1=Perceptron(X_train1,Y_train1)\n",
        "print(weights1)"
      ],
      "execution_count": null,
      "outputs": [
        {
          "output_type": "stream",
          "text": [
            "[ 1.45  3.55 -5.1  -2.1   0.5 ]\n"
          ],
          "name": "stdout"
        }
      ]
    },
    {
      "cell_type": "code",
      "metadata": {
        "colab": {
          "base_uri": "https://localhost:8080/"
        },
        "id": "dFAFBrL55kc7",
        "outputId": "e01a3e8f-1e19-493d-b8bb-1ad4d4e916ab"
      },
      "source": [
        "Ypred_1=prediction(weights1,X_test1)\n",
        "accuracy_score(Ypred_1,Y_test1)"
      ],
      "execution_count": null,
      "outputs": [
        {
          "output_type": "execute_result",
          "data": {
            "text/plain": [
              "1.0"
            ]
          },
          "metadata": {
            "tags": []
          },
          "execution_count": 385
        }
      ]
    },
    {
      "cell_type": "code",
      "metadata": {
        "colab": {
          "base_uri": "https://localhost:8080/"
        },
        "id": "bGaac6WPKhr-",
        "outputId": "39d7d778-b19c-4d11-8641-7b72061e13bd"
      },
      "source": [
        "X2=X[50:]\n",
        "Y2=Y[50:]\n",
        "Y2_out=out_2nd(Y2)\n",
        "print(Y2_out)\n",
        "print(Y2)\n",
        "X_train2, X_test2, Y_train2, Y_test2 = train_test_split(X2, Y2_out, test_size=0.2)"
      ],
      "execution_count": null,
      "outputs": [
        {
          "output_type": "stream",
          "text": [
            "[1, 1, 1, 1, 1, 1, 1, 1, 1, 1, 1, 1, 1, 1, 1, 1, 1, 1, 1, 1, 1, 1, 1, 1, 1, 1, 1, 1, 1, 1, 1, 1, 1, 1, 1, 1, 1, 1, 1, 1, 1, 1, 1, 1, 1, 1, 1, 1, 1, 1, -1, -1, -1, -1, -1, -1, -1, -1, -1, -1, -1, -1, -1, -1, -1, -1, -1, -1, -1, -1, -1, -1, -1, -1, -1, -1, -1, -1, -1, -1, -1, -1, -1, -1, -1, -1, -1, -1, -1, -1, -1, -1, -1, -1, -1, -1, -1, -1, -1, -1]\n",
            "[1 1 1 1 1 1 1 1 1 1 1 1 1 1 1 1 1 1 1 1 1 1 1 1 1 1 1 1 1 1 1 1 1 1 1 1 1\n",
            " 1 1 1 1 1 1 1 1 1 1 1 1 1 2 2 2 2 2 2 2 2 2 2 2 2 2 2 2 2 2 2 2 2 2 2 2 2\n",
            " 2 2 2 2 2 2 2 2 2 2 2 2 2 2 2 2 2 2 2 2 2 2 2 2 2 2]\n"
          ],
          "name": "stdout"
        }
      ]
    },
    {
      "cell_type": "code",
      "metadata": {
        "colab": {
          "base_uri": "https://localhost:8080/"
        },
        "id": "-qvX3Zo0Ljge",
        "outputId": "3fd5c13d-5166-46f6-cab6-f0af77eff5f2"
      },
      "source": [
        "weights2=Perceptron(X_train2,Y_train2)\n",
        "print(weights1)"
      ],
      "execution_count": null,
      "outputs": [
        {
          "output_type": "stream",
          "text": [
            "[ 1.45  3.55 -5.1  -2.1   0.5 ]\n"
          ],
          "name": "stdout"
        }
      ]
    },
    {
      "cell_type": "code",
      "metadata": {
        "colab": {
          "base_uri": "https://localhost:8080/"
        },
        "id": "9G6RfsyoL6ue",
        "outputId": "ffed329a-da4f-46ab-a461-5e39b11f7a8f"
      },
      "source": [
        "Ypred_2=prediction(weights2,X_test2)\n",
        "print(Ypred_2)"
      ],
      "execution_count": null,
      "outputs": [
        {
          "output_type": "stream",
          "text": [
            "[-1, -1, -1, 1, -1, -1, -1, -1, 1, -1, 1, -1, 1, 1, -1, 1, 1, -1, 1, -1]\n"
          ],
          "name": "stdout"
        }
      ]
    },
    {
      "cell_type": "code",
      "metadata": {
        "colab": {
          "base_uri": "https://localhost:8080/"
        },
        "id": "5ogER8HDMEGC",
        "outputId": "4216d17f-c504-42ca-cff5-678407b7830a"
      },
      "source": [
        "accuracy_score(Ypred_2,Y_test2)"
      ],
      "execution_count": null,
      "outputs": [
        {
          "output_type": "execute_result",
          "data": {
            "text/plain": [
              "0.9"
            ]
          },
          "metadata": {
            "tags": []
          },
          "execution_count": 391
        }
      ]
    },
    {
      "cell_type": "code",
      "metadata": {
        "colab": {
          "base_uri": "https://localhost:8080/"
        },
        "id": "ytbDdU8JX3Nv",
        "outputId": "28756300-e42a-4422-f14b-815618dfd777"
      },
      "source": [
        "Y_final=Prediction_two(X,weights1,weights2)\n",
        "accuracy_score(Y_final,Y)"
      ],
      "execution_count": null,
      "outputs": [
        {
          "output_type": "execute_result",
          "data": {
            "text/plain": [
              "0.96"
            ]
          },
          "metadata": {
            "tags": []
          },
          "execution_count": 395
        }
      ]
    }
  ]
}